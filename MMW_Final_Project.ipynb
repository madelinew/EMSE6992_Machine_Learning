{
 "cells": [
  {
   "attachments": {},
   "cell_type": "markdown",
   "metadata": {},
   "source": [
    "# Title\n",
    "Madeline M. Warndorf \n",
    "Graduate Student, EMSE Dept.\n",
    "George Washington University\n",
    "Washington, D.C.\n",
    "mwarndorf65@gwu.edu"
   ]
  },
  {
   "cell_type": "markdown",
   "metadata": {},
   "source": [
    "## General Analysis of Dataset and Preprocessing\n",
    "### Importing Cleaned Final Dataset"
   ]
  },
  {
   "cell_type": "code",
   "execution_count": 2,
   "metadata": {},
   "outputs": [],
   "source": [
    "import pandas as pd\n",
    "from sklearn.utils import shuffle\n",
    "\n",
    "#Importing Data as Pandas Dataframe\n",
    "fars_file = \"MLEMSE6992/fulldataset1516.csv\"\n",
    "fars_df = pd.read_csv(fars_file)\n",
    "\n",
    "#print(fars_df.head())\n",
    "fars_df = shuffle(fars_df)\n",
    "\n",
    "\n",
    "#Casenum and vehnum were dropped because those were assigned by the police after the accident.\n",
    "d_col = ['statenum','day','month','year','landuse','age','vfatcount','numoccs','modelyr']\n",
    "t_col = ['cellphone_use']"
   ]
  },
  {
   "cell_type": "markdown",
   "metadata": {},
   "source": [
    "### Determining if Dataset Needs to Be Undersampled"
   ]
  },
  {
   "cell_type": "code",
   "execution_count": 3,
   "metadata": {},
   "outputs": [
    {
     "name": "stdout",
     "output_type": "stream",
     "text": [
      "The number of accidents involving cellphones: 832\n",
      "The number of accidents that did not involve cellphones: 77701\n",
      "The total number of accidents: 78533\n",
      "The percentage of accidents that involved cellphones: 1.059%\n"
     ]
    }
   ],
   "source": [
    "#Determine if there is a need to undersample\n",
    "celluse = fars_df[fars_df[\"cellphone_use\"] == 1]\n",
    "no_celluse = fars_df[fars_df[\"cellphone_use\"] == 0]\n",
    "print(\"The number of accidents involving cellphones: {}\".format(len(celluse)))\n",
    "print(\"The number of accidents that did not involve cellphones: {}\".format(len(no_celluse)))\n",
    "\n",
    "total_accidents = len(celluse) + len(no_celluse)\n",
    "print(\"The total number of accidents: %d\" % total_accidents)\n",
    "#Percentage of accidents involving cellphones\n",
    "percentage = (len(celluse)/ total_accidents) * 100\n",
    "print(\"The percentage of accidents that involved cellphones: {:.4}%\".format(percentage))\n"
   ]
  },
  {
   "cell_type": "markdown",
   "metadata": {},
   "source": [
    "### Creating New Dataframe with Undersampled Data\n",
    "Storing new dataframe as a CSV to allow for this section of code not to be re-run and so the data isn't resampled to produce different answers down the line."
   ]
  },
  {
   "cell_type": "code",
   "execution_count": 4,
   "metadata": {},
   "outputs": [],
   "source": [
    "#Need to undersample\n",
    "m = len(celluse)\n",
    "selected_no_celluse = no_celluse.sample(m)\n",
    "\n",
    "\n",
    "#Storing and Shuffling new dataset\n",
    "undersampled_df = pd.concat([selected_no_celluse, celluse], ignore_index=True)\n",
    "undersampled_df = shuffle(undersampled_df)\n",
    "\n",
    "undersampled_df.to_csv(\"FARS_undersampled_df.csv\", sep=\",\")\n"
   ]
  },
  {
   "cell_type": "markdown",
   "metadata": {},
   "source": [
    "### Preprocessing the Data"
   ]
  },
  {
   "cell_type": "code",
   "execution_count": 5,
   "metadata": {},
   "outputs": [
    {
     "name": "stdout",
     "output_type": "stream",
     "text": [
      "[[-0.07339345  1.35087967  1.05690508 ... -1.0035252  -1.03702001\n",
      "  -0.99759904]\n",
      " [ 0.77865332  1.69144788  1.05690508 ... -1.65199394 -1.03702001\n",
      "  -0.99759904]\n",
      " [ 0.77865332 -0.91957512 -0.94615876 ...  0.47026737 -1.03702001\n",
      "  -0.99759904]\n",
      " ...\n",
      " [ 0.66504708 -1.7142343   1.05690508 ... -1.35723542  0.70425274\n",
      "  -0.99759904]\n",
      " [ 2.02832192 -1.60071156 -0.94615876 ... -0.17820136  2.44552549\n",
      "  -0.99759904]\n",
      " [-1.1526527   1.12383419  1.05690508 ...  1.0597844  -1.03702001\n",
      "   1.00240674]]\n",
      "[0 1 0 ... 0 0 1]\n"
     ]
    }
   ],
   "source": [
    "from sklearn.feature_extraction import DictVectorizer\n",
    "from sklearn import preprocessing\n",
    "\n",
    "#Create data and target\n",
    "undersampled_df = pd.read_csv(\"FARS_undersampled_df.csv\", sep = \",\")\n",
    "undersampled_df = shuffle(undersampled_df)\n",
    "\n",
    "far_data = undersampled_df[d_col]\n",
    "\n",
    "far_dict_data = far_data.T.to_dict('dict').values()\n",
    "vectorizer = DictVectorizer(sparse=False)\n",
    "fardata = vectorizer.fit_transform(far_dict_data)\n",
    "\n",
    "#PREPROCESSING EACH FEATURE TO HAVE ZERO MEAN AND UNIT VARIANCE\n",
    "preprocessing.scale(fardata, copy=False)\n",
    "\n",
    "fars_target_raw = undersampled_df['cellphone_use']\n",
    "df_t = pd.get_dummies(fars_target_raw)\n",
    "far_target = df_t[1]\n",
    "\n",
    "fartarget = far_target.values\n",
    "\n",
    "print(fardata)\n",
    "print(fartarget)"
   ]
  },
  {
   "cell_type": "markdown",
   "metadata": {},
   "source": [
    "## Deciding on Model\n",
    "Finding best parameters for each type of model based on accuracy. "
   ]
  },
  {
   "cell_type": "code",
   "execution_count": null,
   "metadata": {},
   "outputs": [
    {
     "name": "stdout",
     "output_type": "stream",
     "text": [
      "__MaxEnt (Logistic Regression)__\n",
      "Best Score: 0.619\n",
      "Best Parameters set:\n",
      "{'C': 0.1, 'class_weight': None, 'dual': False, 'fit_intercept': True, 'intercept_scaling': 1, 'max_iter': 100, 'multi_class': 'warn', 'n_jobs': None, 'penalty': 'l2', 'random_state': None, 'solver': 'lbfgs', 'tol': 0.0001, 'verbose': 0, 'warm_start': False}\n"
     ]
    }
   ],
   "source": [
    "#Using GridSearch to determine the best Logistic Regression Model\n",
    "#Setting parameters\n",
    "from sklearn.linear_model import LogisticRegression\n",
    "from sklearn import svm\n",
    "from sklearn.svm import LinearSVC\n",
    "from sklearn.model_selection import GridSearchCV\n",
    "\n",
    "from warnings import filterwarnings\n",
    "filterwarnings('ignore')\n",
    "\n",
    "#Logistic Regression\n",
    "param_grid = [{'C': [1e-2, 1e-1, 1e0, 1e1, 1e2], 'solver': ['lbfgs'],'max_iter': [100,1000,5000,10000]},\n",
    "              {'C': [1e-2, 1e-1, 1e0, 1e1, 1e2], 'solver': ['liblinear'],'max_iter': [100,1000,5000]}]\n",
    "lr = LogisticRegression()\n",
    "\n",
    "me_grid = GridSearchCV(lr, param_grid, cv=10, scoring = 'accuracy')\n",
    "me_grid.fit(fardata, fartarget)\n",
    "\n",
    "print(\"__MaxEnt (Logistic Regression)__\")\n",
    "print(\"Best Score: %0.3f\" % me_grid.best_score_)\n",
    "print(\"Best Parameters set:\")\n",
    "print(me_grid.best_estimator_.get_params())\n",
    "\n",
    "#SVC RBF\n",
    "svc = svm.SVC()\n",
    "\n",
    "param_gridSVC = [{'C': [1e0, 1e2, 1e5], 'kernel': ['rbf'], 'gamma': [0.1, 10]}]\n",
    "\n",
    "svc_grid = GridSearchCV(svc, param_gridSVC, cv=10, scoring = 'accuracy')\n",
    "\n",
    "svc_grid.fit(fardata, fartarget)\n",
    "\n",
    "\n",
    "print(\"__Support Vector RBF Classifier__\")\n",
    "print(\"Best Score: %0.3f\" % svc_grid.best_score_)\n",
    "print(\"Best Parameters set:\")\n",
    "print(svc_grid.best_estimator_.get_params())\n",
    "\n",
    "#LinearSVC\n",
    "svcL = svm.LinearSVC()\n",
    "\n",
    "param_gridSVCL = [{'C': [1e0, 1e2, 1e5], 'loss':['hinge','squared-hinge'], 'max_iter': [100, 1000, 5000, 10000]}]\n",
    "\n",
    "svc_gridL = GridSearchCV(svcL, param_gridSVCL, cv=10, scoring = 'accuracy')\n",
    "\n",
    "svc_gridL.fit(fardata, fartarget)\n",
    "\n",
    "\n",
    "print(\"__Support Vector Linear Classifier__\")\n",
    "print(\"Best Score: %0.3f\" % svc_gridL.best_score_)\n",
    "print(\"Best Parameters set:\")\n",
    "print(svc_gridL.best_estimator_.get_params())"
   ]
  },
  {
   "cell_type": "code",
   "execution_count": 10,
   "metadata": {},
   "outputs": [
    {
     "data": {
      "image/png": "[encoded data removed]",
      "text/plain": [
       "<Figure size 432x288 with 1 Axes>"
      ]
     },
     "metadata": {
      "needs_background": "light"
     },
     "output_type": "display_data"
    },
    {
     "name": "stdout",
     "output_type": "stream",
     "text": [
      "AUC for Logisitic Regression (MaxEnt): 0.673\n"
     ]
    },
    {
     "data": {
      "image/png": "[encoded data removed]",
      "text/plain": [
       "<Figure size 432x288 with 1 Axes>"
      ]
     },
     "metadata": {
      "needs_background": "light"
     },
     "output_type": "display_data"
    },
    {
     "name": "stdout",
     "output_type": "stream",
     "text": [
      "AUC for SVC RBF: 0.695\n"
     ]
    },
    {
     "data": {
      "image/png": "[encoded data removed]",
      "text/plain": [
       "<Figure size 432x288 with 1 Axes>"
      ]
     },
     "metadata": {
      "needs_background": "light"
     },
     "output_type": "display_data"
    },
    {
     "name": "stdout",
     "output_type": "stream",
     "text": [
      "AUC for LinearSVC: 0.675\n"
     ]
    }
   ],
   "source": [
    "from sklearn.metrics import roc_curve, auc\n",
    "import matplotlib.pyplot as plt\n",
    "import numpy as np\n",
    "from sklearn import metrics\n",
    "#Setting test size to 20% of the data meaning it will be the last 333 entries.\n",
    "\n",
    "#MaxEnt\n",
    "log_reg = LogisticRegression(C = 0.1, solver = 'lbfgs', max_iter = 100)\n",
    "log_reg.fit(fardata[333:],fartarget[333:])\n",
    "\n",
    "lr_y_score = log_reg.predict_proba(fardata[:333])[:,1]\n",
    "\n",
    "f_positive, t_positive, thresholds = metrics.roc_curve(fartarget[:333],lr_y_score)\n",
    "lr_roc_auc = metrics.auc(f_positive, t_positive)\n",
    "\n",
    "fig = plt.figure()\n",
    "fig.suptitle('Logistic Regression ROC Curve')\n",
    "graph = fig.add_subplot(111)\n",
    "graph.plot(f_positive, t_positive, c='blue', marker=\"s\", label=\"Logistic Regression (MaxEnt)\")\n",
    "plt.legend(loc='lower right')\n",
    "plt.ylabel('True Positive Rate')\n",
    "plt.xlabel('False Positive Rate')\n",
    "plt.show()\n",
    "print(\"AUC for Logisitic Regression (MaxEnt): %.3f\" % lr_roc_auc)\n",
    "\n",
    "#SVC RBF\n",
    "svc = svm.SVC(C = 1, kernel = 'rbf', gamma = 0.1, max_iter = -1)\n",
    "svc.fit(fardata[333:],fartarget[333:])\n",
    "\n",
    "svc_y_score = svc.decision_function(fardata[:333])\n",
    "\n",
    "f_positive, t_positive, thresholds = metrics.roc_curve(fartarget[:333],svc_y_score)\n",
    "svc_roc_auc = metrics.auc(f_positive, t_positive)\n",
    "\n",
    "fig = plt.figure()\n",
    "fig.suptitle('SVC RBF ROC Curve')\n",
    "graph = fig.add_subplot(111)\n",
    "graph.plot(f_positive, t_positive, c='red', marker=\"s\", label=\"SVC RBF\")\n",
    "plt.legend(loc='lower right')\n",
    "plt.ylabel('True Positive Rate')\n",
    "plt.xlabel('False Positive Rate')\n",
    "plt.show()\n",
    "print(\"AUC for SVC RBF: %.3f\" % svc_roc_auc)\n",
    "\n",
    "\n",
    "#Linear\n",
    "linear_svc_classifier = svm.LinearSVC(C = 100, max_iter = 5000)\n",
    "linear_svc_classifier.fit(fardata[333:],fartarget[333:])\n",
    "\n",
    "y_score = linear_svc_classifier.decision_function(fardata[:333])\n",
    "\n",
    "f_positive, t_positive, thresholds = metrics.roc_curve(fartarget[:333],y_score)\n",
    "roc_auc = metrics.auc(f_positive, t_positive)\n",
    "\n",
    "fig = plt.figure()\n",
    "fig.suptitle('LinearSVC ROC Curve')\n",
    "graph = fig.add_subplot(111)\n",
    "graph.plot(f_positive, t_positive, c='green', marker=\"s\", label=\"LinearSVC\")\n",
    "plt.legend(loc='lower right')\n",
    "plt.ylabel('True Positive Rate')\n",
    "plt.xlabel('False Positive Rate')\n",
    "plt.show()\n",
    "print(\"AUC for LinearSVC: %.3f\" % roc_auc)"
   ]
  },
  {
   "cell_type": "code",
   "execution_count": null,
   "metadata": {},
   "outputs": [],
   "source": []
  },
  {
   "cell_type": "code",
   "execution_count": null,
   "metadata": {},
   "outputs": [],
   "source": [
    "from sklearn.model_selection import cross_val_score\n",
    "import numpy as np\n",
    "from sklearn import metrics\n",
    "\n",
    "\n",
    "\n",
    "linearsvc_scores = cross_val_score(linear_svc_classifier, fardata, fartarget, cv=10)\n",
    "print(\"Average accuracy score for final classifier: %.3f\" % np.mean(linearsvc_scores))\n",
    "\n",
    "\n",
    "\n",
    "y_predict = linear_svc_classifier.predict(fardata[:333])\n",
    "\n",
    "print(\"___Classification Report___\")\n",
    "print(metrics.classification_report(fartarget[:333], y_predict))\n"
   ]
  },
  {
   "cell_type": "code",
   "execution_count": 75,
   "metadata": {},
   "outputs": [
    {
     "name": "stdout",
     "output_type": "stream",
     "text": [
      "[[-0.31957868  0.0361229  -0.05219962 -0.04156485  0.02294018 -0.27988497\n",
      "   0.11750111  0.06040443  0.00330553]]\n",
      "['age', 'day', 'landuse', 'modelyr', 'month', 'numoccs', 'statenum', 'vfatcount', 'year']\n",
      "[-0.01495716]\n"
     ]
    }
   ],
   "source": [
    "print(linear_svc_classifier.coef_)\n",
    "print(vectorizer.get_feature_names())\n",
    "print(linear_svc_classifier.intercept_)"
   ]
  },
  {
   "cell_type": "code",
   "execution_count": 77,
   "metadata": {},
   "outputs": [
    {
     "name": "stdout",
     "output_type": "stream",
     "text": [
      "        age       day  landuse   modelyr    month   numoccs  statenum  \\\n",
      "0 -0.319579  0.036123  -0.0522 -0.041565  0.02294 -0.279885  0.117501   \n",
      "\n",
      "   vfatcount      year  intercept  \n",
      "0   0.060404  0.003306  -0.014957  \n"
     ]
    }
   ],
   "source": [
    "linear_svc_coefs = pd.DataFrame(linear_svc_classifier.coef_, columns = vectorizer.get_feature_names())\n",
    "linear_svc_coefs['intercept'] = linear_svc_classifier.intercept_\n",
    "print(linear_svc_coefs)"
   ]
  },
  {
   "cell_type": "code",
   "execution_count": null,
   "metadata": {},
   "outputs": [],
   "source": [
    "import pickle\n",
    "#Dumping Result into a pickle file\n",
    "pickleoutput = open('LinearSVC_Coefs.pkl', 'wb')\n",
    "pickle.dump(linear_svc_coefs, pickleoutput)\n",
    "pickleoutput.close()"
   ]
  },
  {
   "cell_type": "code",
   "execution_count": 88,
   "metadata": {},
   "outputs": [
    {
     "data": {
      "image/png": "[encoded data removed]",
      "text/plain": [
       "<Figure size 1080x360 with 1 Axes>"
      ]
     },
     "metadata": {
      "needs_background": "light"
     },
     "output_type": "display_data"
    }
   ],
   "source": [
    "#Idea from:\n",
    "'''A. Bakharia, “Visualising Top Features in Linear SVM with Scikit Learn and Matplotlib,” \n",
    "        Medium, 31-Jan-2016. [Online]. \n",
    "        Available: https://medium.com/@aneesha/visualising-top-features-in-linear-svm-with-scikit-learn-and-matplotlib-3454ab18a14d. \n",
    "        [Accessed: 29-Apr-2019].'''\n",
    "coefs = linear_svc_classifier.coef_.ravel()\n",
    "positive_coefs = np.argsort(coefs)[-4:]\n",
    "negative_coefs = np.argsort(coefs)[:5]\n",
    "coefficients = np.hstack([negative_coefs, positive_coefs])\n",
    "feature_names = vectorizer.get_feature_names()\n",
    "\n",
    " # create plot\n",
    "plt.figure(figsize=(15, 5))\n",
    "colors = ['red' if c < 0 else 'blue' for c in coefs[coefficients]]\n",
    "plt.bar(np.arange(1 + 2 * 4), coefs[coefficients], color=colors)\n",
    "feature_names = np.array(feature_names)\n",
    "plt.xticks(np.arange(0, 1 + 2 * 4), feature_names[coefficients], rotation=60, ha='right')\n",
    "plt.xlabel(\"Feature\")\n",
    "plt.ylabel(\"Coefficient\")\n",
    "plt.show()"
   ]
  },
  {
   "cell_type": "code",
   "execution_count": null,
   "metadata": {},
   "outputs": [],
   "source": []
  }
 ],
 "metadata": {
  "kernelspec": {
   "display_name": "Python 3",
   "language": "python",
   "name": "python3"
  },
  "language_info": {
   "codemirror_mode": {
    "name": "ipython",
    "version": 3
   },
   "file_extension": ".py",
   "mimetype": "text/x-python",
   "name": "python",
   "nbconvert_exporter": "python",
   "pygments_lexer": "ipython3",
   "version": "3.6.8"
  }
 },
 "nbformat": 4,
 "nbformat_minor": 2
}
